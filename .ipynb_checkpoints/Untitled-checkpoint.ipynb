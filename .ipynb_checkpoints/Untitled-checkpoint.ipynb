{
 "cells": [
  {
   "cell_type": "code",
   "execution_count": 14,
   "metadata": {},
   "outputs": [],
   "source": [
    "import numpy as np\n",
    "import scipy.special"
   ]
  },
  {
   "cell_type": "code",
   "execution_count": 3,
   "metadata": {},
   "outputs": [
    {
     "data": {
      "text/plain": [
       "array([[ 0.35228097,  0.04045442,  0.10974458],\n",
       "       [-0.41245188,  0.27181651, -0.12681116],\n",
       "       [-0.26038978, -0.21394444, -0.3362275 ]])"
      ]
     },
     "execution_count": 3,
     "metadata": {},
     "output_type": "execute_result"
    }
   ],
   "source": [
    "np.random.rand(3,3) - 0.5"
   ]
  },
  {
   "cell_type": "code",
   "execution_count": 10,
   "metadata": {},
   "outputs": [
    {
     "data": {
      "text/plain": [
       "array([[[[0.48177219, 0.09930826],\n",
       "         [0.30107448, 0.61389339],\n",
       "         [0.50658478, 0.96888081]],\n",
       "\n",
       "        [[0.26929287, 0.74374825],\n",
       "         [0.99769648, 0.55717179],\n",
       "         [0.40901827, 0.03304791]],\n",
       "\n",
       "        [[0.76203936, 0.38383006],\n",
       "         [0.77235028, 0.78783575],\n",
       "         [0.88127422, 0.47845171]]],\n",
       "\n",
       "\n",
       "       [[[0.53039045, 0.49311831],\n",
       "         [0.97526843, 0.27212429],\n",
       "         [0.60763686, 0.31295961]],\n",
       "\n",
       "        [[0.84533189, 0.31590896],\n",
       "         [0.55796848, 0.93946429],\n",
       "         [0.98725559, 0.97809915]],\n",
       "\n",
       "        [[0.47139299, 0.54311763],\n",
       "         [0.94853503, 0.49262308],\n",
       "         [0.09548567, 0.25733751]]],\n",
       "\n",
       "\n",
       "       [[[0.17841378, 0.8720127 ],\n",
       "         [0.74584124, 0.67742432],\n",
       "         [0.76913377, 0.41428826]],\n",
       "\n",
       "        [[0.39428392, 0.50893913],\n",
       "         [0.59875328, 0.66724151],\n",
       "         [0.32648504, 0.23608696]],\n",
       "\n",
       "        [[0.15196265, 0.318644  ],\n",
       "         [0.78675911, 0.39403379],\n",
       "         [0.47958827, 0.88696336]]]])"
      ]
     },
     "execution_count": 10,
     "metadata": {},
     "output_type": "execute_result"
    }
   ],
   "source": [
    "np.random.rand(3,3,3,2)"
   ]
  },
  {
   "cell_type": "code",
   "execution_count": 12,
   "metadata": {},
   "outputs": [
    {
     "data": {
      "text/plain": [
       "array([[ 1.08981913, -0.65036696, -0.59832202],\n",
       "       [ 1.07573861,  0.75936711, -0.47499005]])"
      ]
     },
     "execution_count": 12,
     "metadata": {},
     "output_type": "execute_result"
    }
   ],
   "source": [
    "np.random.normal(0.0, 1, (2,3))"
   ]
  },
  {
   "cell_type": "code",
   "execution_count": null,
   "metadata": {},
   "outputs": [],
   "source": []
  }
 ],
 "metadata": {
  "kernelspec": {
   "display_name": "Python 3",
   "language": "python",
   "name": "python3"
  },
  "language_info": {
   "codemirror_mode": {
    "name": "ipython",
    "version": 3
   },
   "file_extension": ".py",
   "mimetype": "text/x-python",
   "name": "python",
   "nbconvert_exporter": "python",
   "pygments_lexer": "ipython3",
   "version": "3.7.6"
  }
 },
 "nbformat": 4,
 "nbformat_minor": 4
}
